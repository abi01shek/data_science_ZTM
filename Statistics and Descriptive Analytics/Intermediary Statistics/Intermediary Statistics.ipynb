{
 "cells": [
  {
   "cell_type": "code",
   "execution_count": 58,
   "id": "807a62ed-f40a-438f-bcc1-de7bd24fccc5",
   "metadata": {},
   "outputs": [],
   "source": [
    "import pandas as pd\n",
    "import scipy.stats as st\n",
    "import math as m\n",
    "import statsmodels.stats.api as sm\n",
    "import matplotlib.pyplot as plt\n",
    "%matplotlib inline"
   ]
  },
  {
   "cell_type": "code",
   "execution_count": 27,
   "id": "de35b2a5-8a9c-43e7-96ef-9f851535eca4",
   "metadata": {},
   "outputs": [
    {
     "data": {
      "text/html": [
       "<div>\n",
       "<style scoped>\n",
       "    .dataframe tbody tr th:only-of-type {\n",
       "        vertical-align: middle;\n",
       "    }\n",
       "\n",
       "    .dataframe tbody tr th {\n",
       "        vertical-align: top;\n",
       "    }\n",
       "\n",
       "    .dataframe thead th {\n",
       "        text-align: right;\n",
       "    }\n",
       "</style>\n",
       "<table border=\"1\" class=\"dataframe\">\n",
       "  <thead>\n",
       "    <tr style=\"text-align: right;\">\n",
       "      <th></th>\n",
       "      <th>Country</th>\n",
       "      <th>Salary</th>\n",
       "      <th>YearsCodedJob</th>\n",
       "      <th>OpenSource</th>\n",
       "      <th>Hobby</th>\n",
       "      <th>CompanySizeNumber</th>\n",
       "      <th>Remote</th>\n",
       "      <th>CareerSatisfaction</th>\n",
       "      <th>Data_scientist</th>\n",
       "      <th>Database_administrator</th>\n",
       "      <th>...</th>\n",
       "      <th>Developer_with_stats_math_background</th>\n",
       "      <th>DevOps</th>\n",
       "      <th>Embedded_developer</th>\n",
       "      <th>Graphic_designer</th>\n",
       "      <th>Graphics_programming</th>\n",
       "      <th>Machine_learning_specialist</th>\n",
       "      <th>Mobile_developer</th>\n",
       "      <th>Quality_assurance_engineer</th>\n",
       "      <th>Systems_administrator</th>\n",
       "      <th>Web_developer</th>\n",
       "    </tr>\n",
       "  </thead>\n",
       "  <tbody>\n",
       "    <tr>\n",
       "      <th>0</th>\n",
       "      <td>United Kingdom</td>\n",
       "      <td>100000.0</td>\n",
       "      <td>20</td>\n",
       "      <td>0</td>\n",
       "      <td>1</td>\n",
       "      <td>5000</td>\n",
       "      <td>Remote</td>\n",
       "      <td>8</td>\n",
       "      <td>0</td>\n",
       "      <td>0</td>\n",
       "      <td>...</td>\n",
       "      <td>0</td>\n",
       "      <td>0</td>\n",
       "      <td>1</td>\n",
       "      <td>0</td>\n",
       "      <td>0</td>\n",
       "      <td>0</td>\n",
       "      <td>0</td>\n",
       "      <td>0</td>\n",
       "      <td>0</td>\n",
       "      <td>0</td>\n",
       "    </tr>\n",
       "  </tbody>\n",
       "</table>\n",
       "<p>1 rows × 21 columns</p>\n",
       "</div>"
      ],
      "text/plain": [
       "          Country    Salary  YearsCodedJob  OpenSource  Hobby  \\\n",
       "0  United Kingdom  100000.0             20           0      1   \n",
       "\n",
       "   CompanySizeNumber  Remote  CareerSatisfaction  Data_scientist  \\\n",
       "0               5000  Remote                   8               0   \n",
       "\n",
       "   Database_administrator  ...  Developer_with_stats_math_background  DevOps  \\\n",
       "0                       0  ...                                     0       0   \n",
       "\n",
       "   Embedded_developer  Graphic_designer  Graphics_programming  \\\n",
       "0                   1                 0                     0   \n",
       "\n",
       "   Machine_learning_specialist  Mobile_developer  Quality_assurance_engineer  \\\n",
       "0                            0                 0                           0   \n",
       "\n",
       "   Systems_administrator  Web_developer  \n",
       "0                      0              0  \n",
       "\n",
       "[1 rows x 21 columns]"
      ]
     },
     "execution_count": 27,
     "metadata": {},
     "output_type": "execute_result"
    }
   ],
   "source": [
    "df = pd.read_csv(\"./stackoverflow.csv\")\n",
    "df.head(1)"
   ]
  },
  {
   "cell_type": "code",
   "execution_count": 45,
   "id": "32024655-2cca-43f0-a183-cb71e8d4f6c5",
   "metadata": {},
   "outputs": [
    {
     "name": "stdout",
     "output_type": "stream",
     "text": [
      "both countries do not have similar salaries\n"
     ]
    }
   ],
   "source": [
    "# compare salaries of people in UK and Germany\n",
    "# to compare two normal distributions, we use the t-test\n",
    "# note the salaries need not be converted, this is because\n",
    "# of z-scores used within t-test\n",
    "salary_uk = df.loc[df['Country'] == \"United Kingdom\"].Salary\n",
    "salary_de = df.loc[df['Country'] == \"Germany\"].Salary\n",
    "# T-Test: returns t-test statistic and p value\n",
    "tstat, pval  = st.ttest_ind(a = salary_uk, b = salary_de)\n",
    "\n",
    "# null hypothesis: both countries have similar salaries\n",
    "if(pval > 0.05):\n",
    "    # cannot reject null hypothesis\n",
    "    print(\"UK and Germany have similar salaries\")\n",
    "else:\n",
    "    print(\"both countries do not have similar salaries\")"
   ]
  },
  {
   "cell_type": "code",
   "execution_count": 69,
   "id": "4a4193e2-b388-412b-9ce0-560e4fa423c6",
   "metadata": {},
   "outputs": [],
   "source": [
    "# T-test in experience between india and US \n",
    "# is experience level between indians and US similar?\n",
    "experience_ind = df.loc[df['Country'] == \"India\"].YearsCodedJob\n",
    "experience_us  = df.loc[df['Country'] == \"United States\"].YearsCodedJob"
   ]
  },
  {
   "cell_type": "code",
   "execution_count": 73,
   "id": "095dd559-b500-41f2-8772-cfd6ff480a91",
   "metadata": {},
   "outputs": [
    {
     "data": {
      "text/plain": [
       "<Axes: ylabel='Density'>"
      ]
     },
     "execution_count": 73,
     "metadata": {},
     "output_type": "execute_result"
    },
    {
     "data": {
      "image/png": "[encoded data removed]",
      "text/plain": [
       "<Figure size 640x480 with 1 Axes>"
      ]
     },
     "metadata": {},
     "output_type": "display_data"
    }
   ],
   "source": [
    "# visualizing the two distributions\n",
    "experience_ind.plot.density()\n",
    "experience_us.plot.density()\n",
    "# blue is india, red is US\n",
    "# US has more experienced people than india\n",
    "# but are they statistically different?\n",
    "# lets do t-test"
   ]
  },
  {
   "cell_type": "code",
   "execution_count": 71,
   "id": "0b98dd73-5a6d-470d-89df-5b518e2b62cb",
   "metadata": {},
   "outputs": [
    {
     "name": "stdout",
     "output_type": "stream",
     "text": [
      "experience levels between india and US are different\n"
     ]
    }
   ],
   "source": [
    "tval, pval = st.ttest_ind(experience_ind, experience_us)\n",
    "# null hypothesis: curves are similar\n",
    "if(pval > 0.05):\n",
    "    # the curves are similar, cannot reject null hypothesis\n",
    "    print(\"Experience levels between india and US are similar\")\n",
    "else:\n",
    "    # can reject null hypothesis\n",
    "    print(\"experience levels between india and US are different\")"
   ]
  },
  {
   "cell_type": "markdown",
   "id": "7d7fd0e3-eaf6-4c50-b276-daf2b6aebdf3",
   "metadata": {},
   "source": [
    "## Chi square test\n",
    "Used to compare categorical variables as opposed to t-test which compares coninuous variables. Chi-square test compares the relative frequencies of two categorical variables to see if they are the same or not. \n",
    "\n",
    "```Note:\n",
    "The null hypothesis in Chi square test is that there is NO relation between two categorical variables. \n",
    "This is different from null hypothesis of t-test, the two continuous variables are similar.\n",
    "```"
   ]
  },
  {
   "cell_type": "markdown",
   "id": "f43032ad-a453-4089-bf15-384992227fc2",
   "metadata": {},
   "source": [
    "#### Question: Is there a relationship between people working remotely and the country in which they work\n"
   ]
  },
  {
   "cell_type": "code",
   "execution_count": 80,
   "id": "3c61e366-5ff8-4e7d-937a-a69f5305a58f",
   "metadata": {},
   "outputs": [
    {
     "name": "stdout",
     "output_type": "stream",
     "text": [
      "Remote          Not remote  Remote\n",
      "Country                           \n",
      "Canada                 457      28\n",
      "Germany                717      40\n",
      "India                  482      56\n",
      "United Kingdom         953      70\n",
      "United States         2410     381\n"
     ]
    }
   ],
   "source": [
    "# here country and remote are both categorical variables \n",
    "# so lets look at the cross tabluation between two categorical variables\n",
    "# for each country what is frequency of people who work remotely and who dont\n",
    "tab = pd.crosstab(index = df.Country,\n",
    "                  columns=df.Remote)\n",
    "print(tab)"
   ]
  },
  {
   "cell_type": "code",
   "execution_count": 83,
   "id": "01e24374-159a-4f3a-829d-4fa5fd60d58d",
   "metadata": {},
   "outputs": [
    {
     "name": "stdout",
     "output_type": "stream",
     "text": [
      "there is a relationship between countries and remote work\n"
     ]
    }
   ],
   "source": [
    "chi2, pval, dof, exp = st.chi2_contingency(tab)\n",
    "#null hypothesis: there is NO relation between countries\n",
    "# and remote work\n",
    "if(pval > 0.05): \n",
    "    # cannot reject null hypothesis\n",
    "    print(\"there is no relationship between countries and remote work\")\n",
    "    pass\n",
    "else:\n",
    "    # reject null hypothesis\n",
    "    print(\"there is a relationship between countries and remote work\")"
   ]
  },
  {
   "cell_type": "markdown",
   "id": "6fd716d3-153a-46c5-9dd3-1e50b39e3664",
   "metadata": {},
   "source": [
    "#### Question: Is there a relationship between company size and if people have hobbies"
   ]
  },
  {
   "cell_type": "code",
   "execution_count": 88,
   "id": "67f9da81-941d-4949-abfd-2785d7828520",
   "metadata": {},
   "outputs": [
    {
     "name": "stdout",
     "output_type": "stream",
     "text": [
      "Hobby                0    1\n",
      "CompanySizeNumber          \n",
      "1                  101  311\n",
      "10                 123  400\n",
      "20                 293  961\n",
      "100                245  918\n",
      "500                 91  309\n",
      "1000               180  436\n",
      "5000                60  192\n",
      "10000              243  731\n",
      "There is strong relationship between company size and hobby\n"
     ]
    }
   ],
   "source": [
    "tab = pd.crosstab(df.CompanySizeNumber, df.Hobby)\n",
    "print(tab)\n",
    "chi2, pval, dof, exp = st.chi2_contingency(tab)\n",
    "# null hypothesis: there is no relationship\n",
    "if(pval > 0.05):\n",
    "    # cannot reject null hypothesis\n",
    "    print(\"There is no relationship between company size and hobby\")\n",
    "else:\n",
    "    print(\"There is strong relationship between company size and hobby\")\n",
    "    # reject null hypothesis"
   ]
  },
  {
   "cell_type": "code",
   "execution_count": null,
   "id": "bcf06bdf-f68d-4a10-a123-e36ae90eeff3",
   "metadata": {},
   "outputs": [],
   "source": []
  }
 ],
 "metadata": {
  "kernelspec": {
   "display_name": "Python 3 (ipykernel)",
   "language": "python",
   "name": "python3"
  },
  "language_info": {
   "codemirror_mode": {
    "name": "ipython",
    "version": 3
   },
   "file_extension": ".py",
   "mimetype": "text/x-python",
   "name": "python",
   "nbconvert_exporter": "python",
   "pygments_lexer": "ipython3",
   "version": "3.11.5"
  }
 },
 "nbformat": 4,
 "nbformat_minor": 5
}
